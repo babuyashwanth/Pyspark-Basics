{
  "nbformat": 4,
  "nbformat_minor": 0,
  "metadata": {
    "colab": {
      "name": "Pyspark 15.ipynb",
      "provenance": [],
      "collapsed_sections": [],
      "authorship_tag": "ABX9TyPFymJAO2mlAEUUBPVC++82",
      "include_colab_link": true
    },
    "kernelspec": {
      "name": "python3",
      "display_name": "Python 3"
    },
    "language_info": {
      "name": "python"
    }
  },
  "cells": [
    {
      "cell_type": "markdown",
      "metadata": {
        "id": "view-in-github",
        "colab_type": "text"
      },
      "source": [
        "<a href=\"https://colab.research.google.com/github/babuyashwanth/Pyspark-Basics/blob/main/Pyspark_15.ipynb\" target=\"_parent\"><img src=\"https://colab.research.google.com/assets/colab-badge.svg\" alt=\"Open In Colab\"/></a>"
      ]
    },
    {
      "cell_type": "code",
      "metadata": {
        "colab": {
          "base_uri": "https://localhost:8080/"
        },
        "id": "RnUj_rasvdF2",
        "outputId": "57b5a678-a10d-4ddb-930e-3b6600b4a199"
      },
      "source": [
        "pip install pyspark"
      ],
      "execution_count": null,
      "outputs": [
        {
          "output_type": "stream",
          "text": [
            "Requirement already satisfied: pyspark in /usr/local/lib/python3.7/dist-packages (3.1.2)\n",
            "Requirement already satisfied: py4j==0.10.9 in /usr/local/lib/python3.7/dist-packages (from pyspark) (0.10.9)\n"
          ],
          "name": "stdout"
        }
      ]
    },
    {
      "cell_type": "code",
      "metadata": {
        "id": "eJRTpNBGvfUh"
      },
      "source": [
        "import pyspark"
      ],
      "execution_count": null,
      "outputs": []
    },
    {
      "cell_type": "code",
      "metadata": {
        "colab": {
          "base_uri": "https://localhost:8080/"
        },
        "id": "Obw2aLlcv6lk",
        "outputId": "af9c0a3f-e25b-4524-ade5-a43eb8631d51"
      },
      "source": [
        "import pandas as pd\n",
        "type(pd.read_csv('/content/text1.csv'))"
      ],
      "execution_count": null,
      "outputs": [
        {
          "output_type": "execute_result",
          "data": {
            "text/plain": [
              "pandas.core.frame.DataFrame"
            ]
          },
          "metadata": {
            "tags": []
          },
          "execution_count": 3
        }
      ]
    },
    {
      "cell_type": "code",
      "metadata": {
        "id": "I5X0niArwRav"
      },
      "source": [
        "from pyspark.sql import SparkSession"
      ],
      "execution_count": null,
      "outputs": []
    },
    {
      "cell_type": "code",
      "metadata": {
        "id": "KCt_MbQpwbm0"
      },
      "source": [
        "spark = SparkSession.builder.appName('Practise').getOrCreate()"
      ],
      "execution_count": null,
      "outputs": []
    },
    {
      "cell_type": "code",
      "metadata": {
        "colab": {
          "base_uri": "https://localhost:8080/",
          "height": 214
        },
        "id": "XClUgdscwmUj",
        "outputId": "d552e2a5-a184-459d-fcef-c5c8fa566e79"
      },
      "source": [
        "spark"
      ],
      "execution_count": null,
      "outputs": [
        {
          "output_type": "execute_result",
          "data": {
            "text/html": [
              "\n",
              "            <div>\n",
              "                <p><b>SparkSession - in-memory</b></p>\n",
              "                \n",
              "        <div>\n",
              "            <p><b>SparkContext</b></p>\n",
              "\n",
              "            <p><a href=\"http://076d340b1a4b:4040\">Spark UI</a></p>\n",
              "\n",
              "            <dl>\n",
              "              <dt>Version</dt>\n",
              "                <dd><code>v3.1.2</code></dd>\n",
              "              <dt>Master</dt>\n",
              "                <dd><code>local[*]</code></dd>\n",
              "              <dt>AppName</dt>\n",
              "                <dd><code>Practise</code></dd>\n",
              "            </dl>\n",
              "        </div>\n",
              "        \n",
              "            </div>\n",
              "        "
            ],
            "text/plain": [
              "<pyspark.sql.session.SparkSession at 0x7f8a31676190>"
            ]
          },
          "metadata": {
            "tags": []
          },
          "execution_count": 6
        }
      ]
    },
    {
      "cell_type": "code",
      "metadata": {
        "id": "tLWXZ2INx6Gw"
      },
      "source": [
        "df_pyspark=spark.read.csv('/content/text1.csv')"
      ],
      "execution_count": null,
      "outputs": []
    },
    {
      "cell_type": "code",
      "metadata": {
        "colab": {
          "base_uri": "https://localhost:8080/"
        },
        "id": "_ex_0Eh3yIWe",
        "outputId": "30311d22-308b-4201-98c9-1547ab51e544"
      },
      "source": [
        "df_pyspark.show()"
      ],
      "execution_count": null,
      "outputs": [
        {
          "output_type": "stream",
          "text": [
            "+------+---+\n",
            "|   _c0|_c1|\n",
            "+------+---+\n",
            "|  Name|Age|\n",
            "|  Yash| 23|\n",
            "|Tamizh| 23|\n",
            "|Madhan| 23|\n",
            "+------+---+\n",
            "\n"
          ],
          "name": "stdout"
        }
      ]
    },
    {
      "cell_type": "code",
      "metadata": {
        "id": "EoZ6oXs-yPMA"
      },
      "source": [
        "df_pyspark= spark.read.option('header','true').csv('/content/text1.csv')"
      ],
      "execution_count": null,
      "outputs": []
    },
    {
      "cell_type": "code",
      "metadata": {
        "colab": {
          "base_uri": "https://localhost:8080/"
        },
        "id": "RLGSP6Hgy3SC",
        "outputId": "4dab6ff8-70a9-4eba-bfff-db2edcba6657"
      },
      "source": [
        "type(df_pyspark)"
      ],
      "execution_count": null,
      "outputs": [
        {
          "output_type": "execute_result",
          "data": {
            "text/plain": [
              "pyspark.sql.dataframe.DataFrame"
            ]
          },
          "metadata": {
            "tags": []
          },
          "execution_count": 10
        }
      ]
    },
    {
      "cell_type": "code",
      "metadata": {
        "colab": {
          "base_uri": "https://localhost:8080/"
        },
        "id": "POH41EEczMB9",
        "outputId": "448c673b-ae8e-4948-896b-f40bc5b9dbaa"
      },
      "source": [
        "df_pyspark.head(3)"
      ],
      "execution_count": null,
      "outputs": [
        {
          "output_type": "execute_result",
          "data": {
            "text/plain": [
              "[Row(Name='Yash', Age='23'),\n",
              " Row(Name='Tamizh', Age='23'),\n",
              " Row(Name='Madhan', Age='23')]"
            ]
          },
          "metadata": {
            "tags": []
          },
          "execution_count": 12
        }
      ]
    },
    {
      "cell_type": "code",
      "metadata": {
        "colab": {
          "base_uri": "https://localhost:8080/",
          "height": 142
        },
        "id": "rrM23CKx2xky",
        "outputId": "b674bd9d-fc46-4f6e-ed7c-5982ca211911"
      },
      "source": [
        "pd.read_csv('/content/text1.csv')"
      ],
      "execution_count": null,
      "outputs": [
        {
          "output_type": "execute_result",
          "data": {
            "text/html": [
              "<div>\n",
              "<style scoped>\n",
              "    .dataframe tbody tr th:only-of-type {\n",
              "        vertical-align: middle;\n",
              "    }\n",
              "\n",
              "    .dataframe tbody tr th {\n",
              "        vertical-align: top;\n",
              "    }\n",
              "\n",
              "    .dataframe thead th {\n",
              "        text-align: right;\n",
              "    }\n",
              "</style>\n",
              "<table border=\"1\" class=\"dataframe\">\n",
              "  <thead>\n",
              "    <tr style=\"text-align: right;\">\n",
              "      <th></th>\n",
              "      <th>Name</th>\n",
              "      <th>Age</th>\n",
              "      <th>Experience</th>\n",
              "    </tr>\n",
              "  </thead>\n",
              "  <tbody>\n",
              "    <tr>\n",
              "      <th>0</th>\n",
              "      <td>Yash</td>\n",
              "      <td>23</td>\n",
              "      <td>2</td>\n",
              "    </tr>\n",
              "    <tr>\n",
              "      <th>1</th>\n",
              "      <td>Tamizh</td>\n",
              "      <td>23</td>\n",
              "      <td>3</td>\n",
              "    </tr>\n",
              "    <tr>\n",
              "      <th>2</th>\n",
              "      <td>Madhan</td>\n",
              "      <td>23</td>\n",
              "      <td>2</td>\n",
              "    </tr>\n",
              "  </tbody>\n",
              "</table>\n",
              "</div>"
            ],
            "text/plain": [
              "     Name  Age  Experience\n",
              "0    Yash   23           2\n",
              "1  Tamizh   23           3\n",
              "2  Madhan   23           2"
            ]
          },
          "metadata": {
            "tags": []
          },
          "execution_count": 14
        }
      ]
    },
    {
      "cell_type": "code",
      "metadata": {
        "colab": {
          "base_uri": "https://localhost:8080/",
          "height": 214
        },
        "id": "PSVmqDWg28sc",
        "outputId": "255609de-9cf0-41e6-f095-0ed8740af3ad"
      },
      "source": [
        "spark"
      ],
      "execution_count": null,
      "outputs": [
        {
          "output_type": "execute_result",
          "data": {
            "text/html": [
              "\n",
              "            <div>\n",
              "                <p><b>SparkSession - in-memory</b></p>\n",
              "                \n",
              "        <div>\n",
              "            <p><b>SparkContext</b></p>\n",
              "\n",
              "            <p><a href=\"http://076d340b1a4b:4040\">Spark UI</a></p>\n",
              "\n",
              "            <dl>\n",
              "              <dt>Version</dt>\n",
              "                <dd><code>v3.1.2</code></dd>\n",
              "              <dt>Master</dt>\n",
              "                <dd><code>local[*]</code></dd>\n",
              "              <dt>AppName</dt>\n",
              "                <dd><code>Practise</code></dd>\n",
              "            </dl>\n",
              "        </div>\n",
              "        \n",
              "            </div>\n",
              "        "
            ],
            "text/plain": [
              "<pyspark.sql.session.SparkSession at 0x7f8a31676190>"
            ]
          },
          "metadata": {
            "tags": []
          },
          "execution_count": 22
        }
      ]
    },
    {
      "cell_type": "code",
      "metadata": {
        "id": "mWMGat933KKu"
      },
      "source": [
        "## read the dataset"
      ],
      "execution_count": null,
      "outputs": []
    },
    {
      "cell_type": "code",
      "metadata": {
        "id": "qpbFKgZ53sQB"
      },
      "source": [
        "df_pyspark=spark.read.option('header','true').csv('/content/text1.csv',inferSchema=True)"
      ],
      "execution_count": null,
      "outputs": []
    },
    {
      "cell_type": "code",
      "metadata": {
        "colab": {
          "base_uri": "https://localhost:8080/"
        },
        "id": "CtCokIGt30mZ",
        "outputId": "4b80e756-4e51-47a2-c26f-f66554a47e80"
      },
      "source": [
        "df_pyspark.printSchema()"
      ],
      "execution_count": null,
      "outputs": [
        {
          "output_type": "stream",
          "text": [
            "root\n",
            " |-- Name: string (nullable = true)\n",
            " |-- Age: integer (nullable = true)\n",
            " |-- Experience: integer (nullable = true)\n",
            "\n"
          ],
          "name": "stdout"
        }
      ]
    },
    {
      "cell_type": "code",
      "metadata": {
        "id": "v_8Lvbhm4FC9"
      },
      "source": [
        "df_pyspark=spark.read.csv('/content/text1.csv',header=True,inferSchema=True)"
      ],
      "execution_count": null,
      "outputs": []
    },
    {
      "cell_type": "code",
      "metadata": {
        "colab": {
          "base_uri": "https://localhost:8080/"
        },
        "id": "s95D5a5U48gm",
        "outputId": "d3511263-6a82-4e4a-fc40-0b76115aa138"
      },
      "source": [
        "df_pyspark.show()"
      ],
      "execution_count": null,
      "outputs": [
        {
          "output_type": "stream",
          "text": [
            "+------+---+----------+\n",
            "|  Name|Age|Experience|\n",
            "+------+---+----------+\n",
            "|  Yash| 23|         2|\n",
            "|Tamizh| 23|         3|\n",
            "|Madhan| 23|         2|\n",
            "+------+---+----------+\n",
            "\n"
          ],
          "name": "stdout"
        }
      ]
    },
    {
      "cell_type": "code",
      "metadata": {
        "colab": {
          "base_uri": "https://localhost:8080/"
        },
        "id": "aB1rH38P4_Db",
        "outputId": "9303a157-8380-466d-90d6-ea3c7697b15e"
      },
      "source": [
        "type(df_pyspark)"
      ],
      "execution_count": null,
      "outputs": [
        {
          "output_type": "execute_result",
          "data": {
            "text/plain": [
              "pyspark.sql.dataframe.DataFrame"
            ]
          },
          "metadata": {
            "tags": []
          },
          "execution_count": 36
        }
      ]
    },
    {
      "cell_type": "code",
      "metadata": {
        "colab": {
          "base_uri": "https://localhost:8080/"
        },
        "id": "E2soF_qt5UqB",
        "outputId": "10bab625-5866-491e-db5f-3e93403e238c"
      },
      "source": [
        "df_pyspark.columns"
      ],
      "execution_count": null,
      "outputs": [
        {
          "output_type": "execute_result",
          "data": {
            "text/plain": [
              "['Name', 'Age', 'Experience']"
            ]
          },
          "metadata": {
            "tags": []
          },
          "execution_count": 37
        }
      ]
    },
    {
      "cell_type": "code",
      "metadata": {
        "colab": {
          "base_uri": "https://localhost:8080/"
        },
        "id": "jZvTWWdB5ZIM",
        "outputId": "af71dc6a-d8de-4a76-f8a4-1a06f4e2de3c"
      },
      "source": [
        "df_pyspark.select('Name').show()"
      ],
      "execution_count": null,
      "outputs": [
        {
          "output_type": "stream",
          "text": [
            "+------+\n",
            "|  Name|\n",
            "+------+\n",
            "|  Yash|\n",
            "|Tamizh|\n",
            "|Madhan|\n",
            "+------+\n",
            "\n"
          ],
          "name": "stdout"
        }
      ]
    },
    {
      "cell_type": "code",
      "metadata": {
        "colab": {
          "base_uri": "https://localhost:8080/"
        },
        "id": "H0srTUAa5yJM",
        "outputId": "57895d48-3acb-4b91-ab9e-ef826b611983"
      },
      "source": [
        "df_pyspark.select(['Name','Experience']).show()"
      ],
      "execution_count": null,
      "outputs": [
        {
          "output_type": "stream",
          "text": [
            "+------+----------+\n",
            "|  Name|Experience|\n",
            "+------+----------+\n",
            "|  Yash|         2|\n",
            "|Tamizh|         3|\n",
            "|Madhan|         2|\n",
            "+------+----------+\n",
            "\n"
          ],
          "name": "stdout"
        }
      ]
    },
    {
      "cell_type": "code",
      "metadata": {
        "colab": {
          "base_uri": "https://localhost:8080/"
        },
        "id": "bR-uVCEb6HlH",
        "outputId": "579f2914-41ab-4c85-f02b-5e570382834b"
      },
      "source": [
        "df_pyspark.dtypes"
      ],
      "execution_count": null,
      "outputs": [
        {
          "output_type": "execute_result",
          "data": {
            "text/plain": [
              "[('Name', 'string'), ('Age', 'int'), ('Experience', 'int')]"
            ]
          },
          "metadata": {
            "tags": []
          },
          "execution_count": 40
        }
      ]
    },
    {
      "cell_type": "code",
      "metadata": {
        "colab": {
          "base_uri": "https://localhost:8080/"
        },
        "id": "1NctmdBD6W57",
        "outputId": "539042e7-ef8a-4262-86fe-76bd6abcdfca"
      },
      "source": [
        "df_pyspark.describe().show()"
      ],
      "execution_count": null,
      "outputs": [
        {
          "output_type": "stream",
          "text": [
            "+-------+------+----+------------------+\n",
            "|summary|  Name| Age|        Experience|\n",
            "+-------+------+----+------------------+\n",
            "|  count|     3|   3|                 3|\n",
            "|   mean|  null|23.0|2.3333333333333335|\n",
            "| stddev|  null| 0.0|0.5773502691896258|\n",
            "|    min|Madhan|  23|                 2|\n",
            "|    max|  Yash|  23|                 3|\n",
            "+-------+------+----+------------------+\n",
            "\n"
          ],
          "name": "stdout"
        }
      ]
    },
    {
      "cell_type": "code",
      "metadata": {
        "id": "ApZiByPS6gHV"
      },
      "source": [
        "##adding columns"
      ],
      "execution_count": null,
      "outputs": []
    },
    {
      "cell_type": "code",
      "metadata": {
        "id": "o-viQQFu6rsK"
      },
      "source": [
        "df_pyspark=df_pyspark.withColumn('Experience after two years',df_pyspark['Experience']+2)"
      ],
      "execution_count": null,
      "outputs": []
    },
    {
      "cell_type": "code",
      "metadata": {
        "colab": {
          "base_uri": "https://localhost:8080/"
        },
        "id": "NcoFYiAa7EZu",
        "outputId": "4267da36-79b0-4dd1-fd43-6ab95e50ef8c"
      },
      "source": [
        "df_pyspark.show()"
      ],
      "execution_count": null,
      "outputs": [
        {
          "output_type": "stream",
          "text": [
            "+------+---+----------+--------------------------+\n",
            "|  Name|Age|Experience|Experience after two years|\n",
            "+------+---+----------+--------------------------+\n",
            "|  Yash| 23|         2|                         4|\n",
            "|Tamizh| 23|         3|                         5|\n",
            "|Madhan| 23|         2|                         4|\n",
            "+------+---+----------+--------------------------+\n",
            "\n"
          ],
          "name": "stdout"
        }
      ]
    },
    {
      "cell_type": "code",
      "metadata": {
        "id": "ARoXg3sO7cfZ"
      },
      "source": [
        "## Drop the column"
      ],
      "execution_count": null,
      "outputs": []
    },
    {
      "cell_type": "code",
      "metadata": {
        "id": "-mS5mWkY7hE7"
      },
      "source": [
        "df_pyspark = df_pyspark.drop('Experience after two years')"
      ],
      "execution_count": null,
      "outputs": []
    },
    {
      "cell_type": "code",
      "metadata": {
        "colab": {
          "base_uri": "https://localhost:8080/"
        },
        "id": "U-EL7RQv7qj_",
        "outputId": "bc566e8b-e8fd-4bd1-9395-8b10939548aa"
      },
      "source": [
        "df_pyspark.show()"
      ],
      "execution_count": null,
      "outputs": [
        {
          "output_type": "stream",
          "text": [
            "+------+---+----------+\n",
            "|  Name|Age|Experience|\n",
            "+------+---+----------+\n",
            "|  Yash| 23|         2|\n",
            "|Tamizh| 23|         3|\n",
            "|Madhan| 23|         2|\n",
            "+------+---+----------+\n",
            "\n"
          ],
          "name": "stdout"
        }
      ]
    },
    {
      "cell_type": "code",
      "metadata": {
        "colab": {
          "base_uri": "https://localhost:8080/"
        },
        "id": "Tq1EJyH87zOs",
        "outputId": "552bd91d-4674-450e-bd97-1d843084bff2"
      },
      "source": [
        "df_pyspark.withColumnRenamed('Name','Newname').show()"
      ],
      "execution_count": null,
      "outputs": [
        {
          "output_type": "stream",
          "text": [
            "+-------+---+----------+\n",
            "|Newname|Age|Experience|\n",
            "+-------+---+----------+\n",
            "|   Yash| 23|         2|\n",
            "| Tamizh| 23|         3|\n",
            "| Madhan| 23|         2|\n",
            "+-------+---+----------+\n",
            "\n"
          ],
          "name": "stdout"
        }
      ]
    },
    {
      "cell_type": "code",
      "metadata": {
        "colab": {
          "base_uri": "https://localhost:8080/",
          "height": 326
        },
        "id": "y1qXItjA-y8b",
        "outputId": "87104b6e-7327-4bfd-8793-38b116eff3f3"
      },
      "source": [
        "pd.read_csv('/content/text1.csv')"
      ],
      "execution_count": null,
      "outputs": [
        {
          "output_type": "execute_result",
          "data": {
            "text/html": [
              "<div>\n",
              "<style scoped>\n",
              "    .dataframe tbody tr th:only-of-type {\n",
              "        vertical-align: middle;\n",
              "    }\n",
              "\n",
              "    .dataframe tbody tr th {\n",
              "        vertical-align: top;\n",
              "    }\n",
              "\n",
              "    .dataframe thead th {\n",
              "        text-align: right;\n",
              "    }\n",
              "</style>\n",
              "<table border=\"1\" class=\"dataframe\">\n",
              "  <thead>\n",
              "    <tr style=\"text-align: right;\">\n",
              "      <th></th>\n",
              "      <th>Name</th>\n",
              "      <th>Age</th>\n",
              "      <th>Experience</th>\n",
              "      <th>Salary</th>\n",
              "    </tr>\n",
              "  </thead>\n",
              "  <tbody>\n",
              "    <tr>\n",
              "      <th>0</th>\n",
              "      <td>Yash</td>\n",
              "      <td>23.0</td>\n",
              "      <td>2.0</td>\n",
              "      <td>25000.0</td>\n",
              "    </tr>\n",
              "    <tr>\n",
              "      <th>1</th>\n",
              "      <td>Tamizh</td>\n",
              "      <td>23.0</td>\n",
              "      <td>3.0</td>\n",
              "      <td>28000.0</td>\n",
              "    </tr>\n",
              "    <tr>\n",
              "      <th>2</th>\n",
              "      <td>Madhan</td>\n",
              "      <td>23.0</td>\n",
              "      <td>2.0</td>\n",
              "      <td>20000.0</td>\n",
              "    </tr>\n",
              "    <tr>\n",
              "      <th>3</th>\n",
              "      <td>Deepak</td>\n",
              "      <td>25.0</td>\n",
              "      <td>5.0</td>\n",
              "      <td>21000.0</td>\n",
              "    </tr>\n",
              "    <tr>\n",
              "      <th>4</th>\n",
              "      <td>Nishanth</td>\n",
              "      <td>24.0</td>\n",
              "      <td>2.0</td>\n",
              "      <td>26000.0</td>\n",
              "    </tr>\n",
              "    <tr>\n",
              "      <th>5</th>\n",
              "      <td>Anu</td>\n",
              "      <td>23.0</td>\n",
              "      <td>1.0</td>\n",
              "      <td>10000.0</td>\n",
              "    </tr>\n",
              "    <tr>\n",
              "      <th>6</th>\n",
              "      <td>Durga</td>\n",
              "      <td>NaN</td>\n",
              "      <td>NaN</td>\n",
              "      <td>20000.0</td>\n",
              "    </tr>\n",
              "    <tr>\n",
              "      <th>7</th>\n",
              "      <td>NaN</td>\n",
              "      <td>25.0</td>\n",
              "      <td>3.0</td>\n",
              "      <td>30000.0</td>\n",
              "    </tr>\n",
              "    <tr>\n",
              "      <th>8</th>\n",
              "      <td>NaN</td>\n",
              "      <td>30.0</td>\n",
              "      <td>NaN</td>\n",
              "      <td>NaN</td>\n",
              "    </tr>\n",
              "  </tbody>\n",
              "</table>\n",
              "</div>"
            ],
            "text/plain": [
              "       Name   Age  Experience   Salary\n",
              "0      Yash  23.0         2.0  25000.0\n",
              "1    Tamizh  23.0         3.0  28000.0\n",
              "2    Madhan  23.0         2.0  20000.0\n",
              "3    Deepak  25.0         5.0  21000.0\n",
              "4  Nishanth  24.0         2.0  26000.0\n",
              "5       Anu  23.0         1.0  10000.0\n",
              "6     Durga   NaN         NaN  20000.0\n",
              "7       NaN  25.0         3.0  30000.0\n",
              "8       NaN  30.0         NaN      NaN"
            ]
          },
          "metadata": {
            "tags": []
          },
          "execution_count": 53
        }
      ]
    },
    {
      "cell_type": "code",
      "metadata": {
        "id": "i8444RymArv3"
      },
      "source": [
        "df_pyspark =spark.read.csv('/content/text1.csv',header=True)"
      ],
      "execution_count": null,
      "outputs": []
    },
    {
      "cell_type": "code",
      "metadata": {
        "colab": {
          "base_uri": "https://localhost:8080/"
        },
        "id": "AAADlv-ZA4OT",
        "outputId": "6b8cdc7d-f573-4027-9e28-04a20c4d8d5f"
      },
      "source": [
        "df_pyspark.show()"
      ],
      "execution_count": null,
      "outputs": [
        {
          "output_type": "stream",
          "text": [
            "+--------+----+----------+------+\n",
            "|    Name| Age|Experience|Salary|\n",
            "+--------+----+----------+------+\n",
            "|    Yash|  23|         2| 25000|\n",
            "|  Tamizh|  23|         3| 28000|\n",
            "|  Madhan|  23|         2| 20000|\n",
            "|  Deepak|  25|         5| 21000|\n",
            "|Nishanth|  24|         2| 26000|\n",
            "|     Anu|  23|         1| 10000|\n",
            "|   Durga|null|      null| 20000|\n",
            "|    null|  25|         3| 30000|\n",
            "|    null|  30|      null|  null|\n",
            "+--------+----+----------+------+\n",
            "\n"
          ],
          "name": "stdout"
        }
      ]
    },
    {
      "cell_type": "code",
      "metadata": {
        "id": "y37gpbyTBCZq"
      },
      "source": [
        "##drop the columns"
      ],
      "execution_count": null,
      "outputs": []
    },
    {
      "cell_type": "code",
      "metadata": {
        "colab": {
          "base_uri": "https://localhost:8080/"
        },
        "id": "G764pgQ5BNfg",
        "outputId": "1aed90ab-7ac3-4909-af19-bb05d6360238"
      },
      "source": [
        "df_pyspark.drop('Name').show()"
      ],
      "execution_count": null,
      "outputs": [
        {
          "output_type": "stream",
          "text": [
            "+----+----------+------+\n",
            "| Age|Experience|Salary|\n",
            "+----+----------+------+\n",
            "|  23|         2| 25000|\n",
            "|  23|         3| 28000|\n",
            "|  23|         2| 20000|\n",
            "|  25|         5| 21000|\n",
            "|  24|         2| 26000|\n",
            "|  23|         1| 10000|\n",
            "|null|      null| 20000|\n",
            "|  25|         3| 30000|\n",
            "|  30|      null|  null|\n",
            "+----+----------+------+\n",
            "\n"
          ],
          "name": "stdout"
        }
      ]
    },
    {
      "cell_type": "code",
      "metadata": {
        "colab": {
          "base_uri": "https://localhost:8080/"
        },
        "id": "oZdqvadvBU_E",
        "outputId": "55014698-61f8-44f3-a94d-c66228cb9fc5"
      },
      "source": [
        "df_pyspark.na.drop().show()"
      ],
      "execution_count": null,
      "outputs": [
        {
          "output_type": "stream",
          "text": [
            "+--------+---+----------+------+\n",
            "|    Name|Age|Experience|Salary|\n",
            "+--------+---+----------+------+\n",
            "|    Yash| 23|         2| 25000|\n",
            "|  Tamizh| 23|         3| 28000|\n",
            "|  Madhan| 23|         2| 20000|\n",
            "|  Deepak| 25|         5| 21000|\n",
            "|Nishanth| 24|         2| 26000|\n",
            "|     Anu| 23|         1| 10000|\n",
            "+--------+---+----------+------+\n",
            "\n"
          ],
          "name": "stdout"
        }
      ]
    },
    {
      "cell_type": "code",
      "metadata": {
        "colab": {
          "base_uri": "https://localhost:8080/"
        },
        "id": "Z_YLKYt7BhQv",
        "outputId": "b4c86070-38b1-43da-92f3-9a1c53569ce5"
      },
      "source": [
        "df_pyspark.na.drop(how='all').show()"
      ],
      "execution_count": null,
      "outputs": [
        {
          "output_type": "stream",
          "text": [
            "+--------+----+----------+------+\n",
            "|    Name| Age|Experience|Salary|\n",
            "+--------+----+----------+------+\n",
            "|    Yash|  23|         2| 25000|\n",
            "|  Tamizh|  23|         3| 28000|\n",
            "|  Madhan|  23|         2| 20000|\n",
            "|  Deepak|  25|         5| 21000|\n",
            "|Nishanth|  24|         2| 26000|\n",
            "|     Anu|  23|         1| 10000|\n",
            "|   Durga|null|      null| 20000|\n",
            "|    null|  25|         3| 30000|\n",
            "|    null|  30|      null|  null|\n",
            "+--------+----+----------+------+\n",
            "\n"
          ],
          "name": "stdout"
        }
      ]
    },
    {
      "cell_type": "code",
      "metadata": {
        "colab": {
          "base_uri": "https://localhost:8080/"
        },
        "id": "fgH-sQB2CBIt",
        "outputId": "655668d2-8848-463a-886b-51b36dbc5074"
      },
      "source": [
        "df_pyspark.na.drop(how='any').show()"
      ],
      "execution_count": null,
      "outputs": [
        {
          "output_type": "stream",
          "text": [
            "+--------+---+----------+------+\n",
            "|    Name|Age|Experience|Salary|\n",
            "+--------+---+----------+------+\n",
            "|    Yash| 23|         2| 25000|\n",
            "|  Tamizh| 23|         3| 28000|\n",
            "|  Madhan| 23|         2| 20000|\n",
            "|  Deepak| 25|         5| 21000|\n",
            "|Nishanth| 24|         2| 26000|\n",
            "|     Anu| 23|         1| 10000|\n",
            "+--------+---+----------+------+\n",
            "\n"
          ],
          "name": "stdout"
        }
      ]
    },
    {
      "cell_type": "code",
      "metadata": {
        "id": "c7Hbn23gCFi1"
      },
      "source": [
        "#threshold "
      ],
      "execution_count": null,
      "outputs": []
    },
    {
      "cell_type": "code",
      "metadata": {
        "colab": {
          "base_uri": "https://localhost:8080/"
        },
        "id": "TS_GE-6aCPr6",
        "outputId": "11657d76-5af3-4884-af01-a5cb1be4f79e"
      },
      "source": [
        "df_pyspark.na.drop(how='all',thresh=3).show()"
      ],
      "execution_count": null,
      "outputs": [
        {
          "output_type": "stream",
          "text": [
            "+--------+---+----------+------+\n",
            "|    Name|Age|Experience|Salary|\n",
            "+--------+---+----------+------+\n",
            "|    Yash| 23|         2| 25000|\n",
            "|  Tamizh| 23|         3| 28000|\n",
            "|  Madhan| 23|         2| 20000|\n",
            "|  Deepak| 25|         5| 21000|\n",
            "|Nishanth| 24|         2| 26000|\n",
            "|     Anu| 23|         1| 10000|\n",
            "|    null| 25|         3| 30000|\n",
            "+--------+---+----------+------+\n",
            "\n"
          ],
          "name": "stdout"
        }
      ]
    },
    {
      "cell_type": "code",
      "metadata": {
        "id": "U1L_IfHDCjQy"
      },
      "source": [
        "#subset"
      ],
      "execution_count": null,
      "outputs": []
    },
    {
      "cell_type": "code",
      "metadata": {
        "colab": {
          "base_uri": "https://localhost:8080/"
        },
        "id": "EbJ008SIC0bH",
        "outputId": "fa8af303-dc87-452f-b240-b993e6014b4c"
      },
      "source": [
        "df_pyspark.na.drop(how='all',subset=['Name']).show()"
      ],
      "execution_count": null,
      "outputs": [
        {
          "output_type": "stream",
          "text": [
            "+--------+----+----------+------+\n",
            "|    Name| Age|Experience|Salary|\n",
            "+--------+----+----------+------+\n",
            "|    Yash|  23|         2| 25000|\n",
            "|  Tamizh|  23|         3| 28000|\n",
            "|  Madhan|  23|         2| 20000|\n",
            "|  Deepak|  25|         5| 21000|\n",
            "|Nishanth|  24|         2| 26000|\n",
            "|     Anu|  23|         1| 10000|\n",
            "|   Durga|null|      null| 20000|\n",
            "+--------+----+----------+------+\n",
            "\n"
          ],
          "name": "stdout"
        }
      ]
    },
    {
      "cell_type": "code",
      "metadata": {
        "id": "b7aQsZY2DGFl"
      },
      "source": [
        "##filling the missing value"
      ],
      "execution_count": null,
      "outputs": []
    },
    {
      "cell_type": "code",
      "metadata": {
        "colab": {
          "base_uri": "https://localhost:8080/"
        },
        "id": "oGp0-UhuDRzB",
        "outputId": "eefe61df-608f-445e-d62d-f6aba551494d"
      },
      "source": [
        "df_pyspark.show()"
      ],
      "execution_count": null,
      "outputs": [
        {
          "output_type": "stream",
          "text": [
            "+--------+----+----------+------+\n",
            "|    Name| Age|Experience|Salary|\n",
            "+--------+----+----------+------+\n",
            "|    Yash|  23|         2| 25000|\n",
            "|  Tamizh|  23|         3| 28000|\n",
            "|  Madhan|  23|         2| 20000|\n",
            "|  Deepak|  25|         5| 21000|\n",
            "|Nishanth|  24|         2| 26000|\n",
            "|     Anu|  23|         1| 10000|\n",
            "|   Durga|null|      null| 20000|\n",
            "|    null|  25|         3| 30000|\n",
            "|    null|  30|      null|  null|\n",
            "+--------+----+----------+------+\n",
            "\n"
          ],
          "name": "stdout"
        }
      ]
    },
    {
      "cell_type": "code",
      "metadata": {
        "colab": {
          "base_uri": "https://localhost:8080/"
        },
        "id": "hPpFCVCBDdDS",
        "outputId": "e2706472-b4d0-409f-fbba-950db9083c57"
      },
      "source": [
        "df_pyspark.na.fill('Missing Values').show()"
      ],
      "execution_count": null,
      "outputs": [
        {
          "output_type": "stream",
          "text": [
            "+--------------+--------------+--------------+--------------+\n",
            "|          Name|           Age|    Experience|        Salary|\n",
            "+--------------+--------------+--------------+--------------+\n",
            "|          Yash|            23|             2|         25000|\n",
            "|        Tamizh|            23|             3|         28000|\n",
            "|        Madhan|            23|             2|         20000|\n",
            "|        Deepak|            25|             5|         21000|\n",
            "|      Nishanth|            24|             2|         26000|\n",
            "|           Anu|            23|             1|         10000|\n",
            "|         Durga|Missing Values|Missing Values|         20000|\n",
            "|Missing Values|            25|             3|         30000|\n",
            "|Missing Values|            30|Missing Values|Missing Values|\n",
            "+--------------+--------------+--------------+--------------+\n",
            "\n"
          ],
          "name": "stdout"
        }
      ]
    },
    {
      "cell_type": "code",
      "metadata": {
        "id": "A1fn57VOD6y5"
      },
      "source": [
        "#filling the null values with mean, mode, median"
      ],
      "execution_count": null,
      "outputs": []
    },
    {
      "cell_type": "code",
      "metadata": {
        "colab": {
          "base_uri": "https://localhost:8080/"
        },
        "id": "GV4qMWPwILX0",
        "outputId": "01f3c1ad-494f-4499-9c65-df473b01b4dd"
      },
      "source": [
        "df_pyspark.dtypes"
      ],
      "execution_count": null,
      "outputs": [
        {
          "output_type": "execute_result",
          "data": {
            "text/plain": [
              "[('Name', 'string'),\n",
              " ('Age', 'string'),\n",
              " ('Experience', 'string'),\n",
              " ('Salary', 'string')]"
            ]
          },
          "metadata": {
            "tags": []
          },
          "execution_count": 99
        }
      ]
    },
    {
      "cell_type": "code",
      "metadata": {
        "id": "1CN-QAwiKzrX"
      },
      "source": [
        "df_pyspark = spark.read.csv('/content/text1.csv',header=True,inferSchema=True)"
      ],
      "execution_count": null,
      "outputs": []
    },
    {
      "cell_type": "code",
      "metadata": {
        "id": "9folhsuvIPWU"
      },
      "source": [
        "from pyspark.ml.feature import Imputer"
      ],
      "execution_count": null,
      "outputs": []
    },
    {
      "cell_type": "code",
      "metadata": {
        "id": "3ilAmF3-Ijjt"
      },
      "source": [
        "imputer = Imputer(\n",
        "  inputCols=['Age','Experience','Salary'],\n",
        "  outputCols=[\"{}_imputed\".format(c) for c in ['Age','Experience','Salary']]).setStrategy('median')"
      ],
      "execution_count": null,
      "outputs": []
    },
    {
      "cell_type": "code",
      "metadata": {
        "colab": {
          "base_uri": "https://localhost:8080/"
        },
        "id": "-yjri5ogJvqX",
        "outputId": "37061c78-22ca-4792-bea9-4267ffaac363"
      },
      "source": [
        "imputer.fit(df_pyspark).transform(df_pyspark).show()"
      ],
      "execution_count": null,
      "outputs": [
        {
          "output_type": "stream",
          "text": [
            "+--------+----+----------+------+-----------+------------------+--------------+\n",
            "|    Name| Age|Experience|Salary|Age_imputed|Experience_imputed|Salary_imputed|\n",
            "+--------+----+----------+------+-----------+------------------+--------------+\n",
            "|    Yash|  23|         2| 25000|         23|                 2|         25000|\n",
            "|  Tamizh|  23|         3| 28000|         23|                 3|         28000|\n",
            "|  Madhan|  23|         2| 20000|         23|                 2|         20000|\n",
            "|  Deepak|  25|         5| 21000|         25|                 5|         21000|\n",
            "|Nishanth|  24|         2| 26000|         24|                 2|         26000|\n",
            "|     Anu|  23|         1| 10000|         23|                 1|         10000|\n",
            "|   Durga|null|      null| 20000|         23|                 2|         20000|\n",
            "|    null|  25|         3| 30000|         25|                 3|         30000|\n",
            "|    null|  30|      null|  null|         30|                 2|         21000|\n",
            "+--------+----+----------+------+-----------+------------------+--------------+\n",
            "\n"
          ],
          "name": "stdout"
        }
      ]
    },
    {
      "cell_type": "code",
      "metadata": {
        "id": "HyxpUZEGKo--"
      },
      "source": [
        "#filter"
      ],
      "execution_count": null,
      "outputs": []
    },
    {
      "cell_type": "code",
      "metadata": {
        "id": "RPDWNChLQhXC"
      },
      "source": [
        "df_pyspark=spark.read.csv('/content/text1.csv',header=True,inferSchema=True)"
      ],
      "execution_count": null,
      "outputs": []
    },
    {
      "cell_type": "code",
      "metadata": {
        "colab": {
          "base_uri": "https://localhost:8080/"
        },
        "id": "ypgZgVknQ6b9",
        "outputId": "9dce00d8-043e-4b24-e310-5818aaff18c5"
      },
      "source": [
        "df_pyspark.show()"
      ],
      "execution_count": null,
      "outputs": [
        {
          "output_type": "stream",
          "text": [
            "+--------+---+----------+------+\n",
            "|    Name|Age|Experience|Salary|\n",
            "+--------+---+----------+------+\n",
            "|    Yash| 23|         2| 25000|\n",
            "|  Tamizh| 23|         3| 28000|\n",
            "|  Madhan| 23|         2| 20000|\n",
            "|  Deepak| 25|         5| 21000|\n",
            "|Nishanth| 24|         2| 26000|\n",
            "|     Anu| 23|         1| 10000|\n",
            "|   Durga| 25|         2| 20000|\n",
            "+--------+---+----------+------+\n",
            "\n"
          ],
          "name": "stdout"
        }
      ]
    },
    {
      "cell_type": "code",
      "metadata": {
        "colab": {
          "base_uri": "https://localhost:8080/"
        },
        "id": "mgZouxB9Q9HS",
        "outputId": "a52bd33d-7537-41e6-db6f-339200f83b57"
      },
      "source": [
        "df_pyspark.filter('Salary<=20000').show()"
      ],
      "execution_count": null,
      "outputs": [
        {
          "output_type": "stream",
          "text": [
            "+------+---+----------+------+\n",
            "|  Name|Age|Experience|Salary|\n",
            "+------+---+----------+------+\n",
            "|Madhan| 23|         2| 20000|\n",
            "|   Anu| 23|         1| 10000|\n",
            "| Durga| 25|         2| 20000|\n",
            "+------+---+----------+------+\n",
            "\n"
          ],
          "name": "stdout"
        }
      ]
    },
    {
      "cell_type": "code",
      "metadata": {
        "colab": {
          "base_uri": "https://localhost:8080/"
        },
        "id": "h_C3USWRRRio",
        "outputId": "8702c529-9886-4dca-f29d-f04ab5b865c0"
      },
      "source": [
        "df_pyspark.filter(df_pyspark['Salary']<=20000).show()"
      ],
      "execution_count": null,
      "outputs": [
        {
          "output_type": "stream",
          "text": [
            "+------+---+----------+------+\n",
            "|  Name|Age|Experience|Salary|\n",
            "+------+---+----------+------+\n",
            "|Madhan| 23|         2| 20000|\n",
            "|   Anu| 23|         1| 10000|\n",
            "| Durga| 25|         2| 20000|\n",
            "+------+---+----------+------+\n",
            "\n"
          ],
          "name": "stdout"
        }
      ]
    },
    {
      "cell_type": "code",
      "metadata": {
        "colab": {
          "base_uri": "https://localhost:8080/"
        },
        "id": "52UVsyvVRshC",
        "outputId": "2a1940fb-70f6-4659-8d2a-f0817b0a8c31"
      },
      "source": [
        "df_pyspark.filter((df_pyspark['Salary']<=20000) |\n",
        "                (df_pyspark['Salary']>=10000)).show()"
      ],
      "execution_count": null,
      "outputs": [
        {
          "output_type": "stream",
          "text": [
            "+--------+---+----------+------+\n",
            "|    Name|Age|Experience|Salary|\n",
            "+--------+---+----------+------+\n",
            "|    Yash| 23|         2| 25000|\n",
            "|  Tamizh| 23|         3| 28000|\n",
            "|  Madhan| 23|         2| 20000|\n",
            "|  Deepak| 25|         5| 21000|\n",
            "|Nishanth| 24|         2| 26000|\n",
            "|     Anu| 23|         1| 10000|\n",
            "|   Durga| 25|         2| 20000|\n",
            "+--------+---+----------+------+\n",
            "\n"
          ],
          "name": "stdout"
        }
      ]
    },
    {
      "cell_type": "code",
      "metadata": {
        "colab": {
          "base_uri": "https://localhost:8080/"
        },
        "id": "NybG6yyySvRZ",
        "outputId": "cd4f46ca-cbfa-4ac5-a17d-3d5672ee3787"
      },
      "source": [
        "df_pyspark.filter(~(df_pyspark['Salary']<=20000)).show()"
      ],
      "execution_count": null,
      "outputs": [
        {
          "output_type": "stream",
          "text": [
            "+--------+---+----------+------+\n",
            "|    Name|Age|Experience|Salary|\n",
            "+--------+---+----------+------+\n",
            "|    Yash| 23|         2| 25000|\n",
            "|  Tamizh| 23|         3| 28000|\n",
            "|  Deepak| 25|         5| 21000|\n",
            "|Nishanth| 24|         2| 26000|\n",
            "+--------+---+----------+------+\n",
            "\n"
          ],
          "name": "stdout"
        }
      ]
    },
    {
      "cell_type": "code",
      "metadata": {
        "id": "yzpX_8t_TXHu"
      },
      "source": [
        "df_pyspark=spark.read.csv('/content/text2.csv',header=True,inferSchema=True)"
      ],
      "execution_count": null,
      "outputs": []
    },
    {
      "cell_type": "code",
      "metadata": {
        "colab": {
          "base_uri": "https://localhost:8080/"
        },
        "id": "XAadtqJeUrJk",
        "outputId": "017adc82-7294-477d-c961-a9bbdd67fb31"
      },
      "source": [
        "df_pyspark.show()"
      ],
      "execution_count": null,
      "outputs": [
        {
          "output_type": "stream",
          "text": [
            "+------+----------+------+\n",
            "|  Name|Department|Salary|\n",
            "+------+----------+------+\n",
            "|  Yash|        DS| 25000|\n",
            "|  Yash|      Mech| 28000|\n",
            "|Madhan|    Design| 20000|\n",
            "|Madhan|    Design| 21000|\n",
            "|Madhan|    Design| 26000|\n",
            "|Rasega|        IT| 10000|\n",
            "|  Pavi|   Digital| 20000|\n",
            "|  Pavi|        IT| 25000|\n",
            "|Rasega|      Data| 40000|\n",
            "|Rasega|     Cloud| 30000|\n",
            "+------+----------+------+\n",
            "\n"
          ],
          "name": "stdout"
        }
      ]
    },
    {
      "cell_type": "code",
      "metadata": {
        "id": "MR8ZdJXPU4IR"
      },
      "source": [
        "#GroupBy"
      ],
      "execution_count": null,
      "outputs": []
    },
    {
      "cell_type": "code",
      "metadata": {
        "colab": {
          "base_uri": "https://localhost:8080/"
        },
        "id": "6VizhB9lVAFo",
        "outputId": "a24f0846-affd-408b-ce0d-14c76e0ed32a"
      },
      "source": [
        "df_pyspark.groupBy('Name').sum().show()"
      ],
      "execution_count": null,
      "outputs": [
        {
          "output_type": "stream",
          "text": [
            "+------+-----------+\n",
            "|  Name|sum(Salary)|\n",
            "+------+-----------+\n",
            "|Rasega|      80000|\n",
            "|  Pavi|      45000|\n",
            "|Madhan|      67000|\n",
            "|  Yash|      53000|\n",
            "+------+-----------+\n",
            "\n"
          ],
          "name": "stdout"
        }
      ]
    },
    {
      "cell_type": "code",
      "metadata": {
        "colab": {
          "base_uri": "https://localhost:8080/"
        },
        "id": "kg05qkkUVg58",
        "outputId": "d995c913-bc0f-4df1-aad9-cffe7986151e"
      },
      "source": [
        "df_pyspark.groupBy('Department').max().show()"
      ],
      "execution_count": null,
      "outputs": [
        {
          "output_type": "stream",
          "text": [
            "+----------+-----------+\n",
            "|Department|max(Salary)|\n",
            "+----------+-----------+\n",
            "|      Data|      40000|\n",
            "|   Digital|      20000|\n",
            "|    Design|      26000|\n",
            "|        IT|      25000|\n",
            "|      Mech|      28000|\n",
            "|        DS|      25000|\n",
            "|     Cloud|      30000|\n",
            "+----------+-----------+\n",
            "\n"
          ],
          "name": "stdout"
        }
      ]
    },
    {
      "cell_type": "code",
      "metadata": {
        "colab": {
          "base_uri": "https://localhost:8080/"
        },
        "id": "SPhLlwuKXTTS",
        "outputId": "68aa453f-ae4a-4d47-a39c-e2cd30324673"
      },
      "source": [
        "df_pyspark.groupBy('Department').mean().show()"
      ],
      "execution_count": null,
      "outputs": [
        {
          "output_type": "stream",
          "text": [
            "+----------+------------------+\n",
            "|Department|       avg(Salary)|\n",
            "+----------+------------------+\n",
            "|      Data|           40000.0|\n",
            "|   Digital|           20000.0|\n",
            "|    Design|22333.333333333332|\n",
            "|        IT|           17500.0|\n",
            "|      Mech|           28000.0|\n",
            "|        DS|           25000.0|\n",
            "|     Cloud|           30000.0|\n",
            "+----------+------------------+\n",
            "\n"
          ],
          "name": "stdout"
        }
      ]
    },
    {
      "cell_type": "code",
      "metadata": {
        "colab": {
          "base_uri": "https://localhost:8080/"
        },
        "id": "WLUABt_oXqO5",
        "outputId": "c2f16e51-ed80-455e-c574-22fb1d3bbdc8"
      },
      "source": [
        "df_pyspark.groupBy('Department').count().show()"
      ],
      "execution_count": null,
      "outputs": [
        {
          "output_type": "stream",
          "text": [
            "+----------+-----+\n",
            "|Department|count|\n",
            "+----------+-----+\n",
            "|      Data|    1|\n",
            "|   Digital|    1|\n",
            "|    Design|    3|\n",
            "|        IT|    2|\n",
            "|      Mech|    1|\n",
            "|        DS|    1|\n",
            "|     Cloud|    1|\n",
            "+----------+-----+\n",
            "\n"
          ],
          "name": "stdout"
        }
      ]
    },
    {
      "cell_type": "code",
      "metadata": {
        "colab": {
          "base_uri": "https://localhost:8080/"
        },
        "id": "-CsAsyvaX1MK",
        "outputId": "fbd57ffa-0a59-4c95-9b2d-d0a911f706d7"
      },
      "source": [
        "df_pyspark.agg({'Salary':'sum'}).show()"
      ],
      "execution_count": null,
      "outputs": [
        {
          "output_type": "stream",
          "text": [
            "+-----------+\n",
            "|sum(Salary)|\n",
            "+-----------+\n",
            "|     245000|\n",
            "+-----------+\n",
            "\n"
          ],
          "name": "stdout"
        }
      ]
    },
    {
      "cell_type": "code",
      "metadata": {
        "id": "WZCHUMUQYG40"
      },
      "source": [
        ""
      ],
      "execution_count": null,
      "outputs": []
    }
  ]
}